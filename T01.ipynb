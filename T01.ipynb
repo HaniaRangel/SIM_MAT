{
  "metadata": {
    "kernelspec": {
      "name": "xpython",
      "display_name": "Python 3.13 (XPython)",
      "language": "python"
    },
    "language_info": {
      "file_extension": ".py",
      "mimetype": "text/x-python",
      "name": "python",
      "version": "3.13.1"
    }
  },
  "nbformat_minor": 5,
  "nbformat": 4,
  "cells": [
    {
      "id": "796f96f5-ed90-448e-a1dd-3ec76a05dbc6",
      "cell_type": "markdown",
      "source": "# **Tarea 0.1 - Presentación y resumen de artículo en Markdown**\n<h2 align=\"right\"><i>Simulación matemática</i> | Otoño 2025</h2> \n<!--HTML para la alineación y comentarios-->\n<!--En Markdown (sin la alineación) sería ## *Simulación matemática* | Otoño 2025-->\n\n#### Presentación:\n>**Nombre:** Hania Alexa Rangel Aguilar<br>\n>**Carrera:** Ing. en Nanotecnología\n\n---\n\n#### Resumen de un artículo o noticia:\n### **[ENGLISH HERITAGE AND TASKMASTER TEAM UP FOR AN UNFORGETTABLE SUMMER OF ENTERTAINMENT](https://avalonuk.com/2025/06/04/english-heritage-and-taskmaster-team-up-for-an-unforgettable-summer-of-entertainment/)**\n\n![Taskmaster Partners with English Heritage](https://taskmaster.tv/sites/default/files/styles/gold_frame_switcher/public/musing/Taskmaster_Wrest_Pk_EH_74_JH.png?itok=rNOUOvfU)\n\nEn este artículo se habla del show de televisión en Reino Unido **[Taskmaster](https://www.youtube.com/c/Taskmaster)**, el cual anunció una colaboración con **English Heritage** para presentar retos al estilo del programa en 17 sitios patrimoniales durante este verano, incluyendo lugares como *Stonehenge*, *Whitby Abbey* y *Dover Castle*.\n\nEsta iniciativa forma parte de la estrategia para fomentar la participación de visitantes de English Heritage, ofreciendo experiencias interactivas que combinan el entretenimiento con la apreciación del patrimonio cultural del país.\n\n[Beth Stone](https://www.linkedin.com/in/beth-stone-4243107/?originalSubdomain=uk), directora de esta experiencia, menciono que un ejemplo de los *tasks* es “conviertete en un monarca por un día y crea tus propias leyes\".\n\n[Alex Horne](https://en.wikipedia.org/wiki/Alex_Horne), creador y co-conductor de Taskmaster, dijo:\n>*“Desde la inusual posición de ser padre y asistente del Taskmaster, confío en que esta relación será positiva para niños, adultos y aficionados al patrimonio en general.<br>\nEs agradable ir a lugares bonitos, pero es aún mejor hacer cosas divertidas en esos lugares bonitos, y esto debería asegurarte que puedas hacer precisamente eso, al menos este verano. Y [Greg (Davies)](https://en.wikipedia.org/wiki/Greg_Davies) está de acuerdo conmigo, así que esto es oficial.”*\n\n![Taskmaster TV show](https://nub.news/api/image/669231/article.jpeg)",
      "metadata": {}
    },
    {
      "id": "2e55a1e6-47a3-4f50-882e-4f9e4fe3230d",
      "cell_type": "code",
      "source": "",
      "metadata": {
        "trusted": true
      },
      "outputs": [],
      "execution_count": null
    }
  ]
}
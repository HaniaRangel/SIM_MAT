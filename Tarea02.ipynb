{
  "metadata": {
    "kernelspec": {
      "name": "xpython",
      "display_name": "Python 3.13 (XPython)",
      "language": "python"
    },
    "language_info": {
      "file_extension": ".py",
      "mimetype": "text/x-python",
      "name": "python",
      "version": "3.13.1"
    }
  },
  "nbformat_minor": 5,
  "nbformat": 4,
  "cells": [
    {
      "id": "26f97ed0-6c47-440a-ab66-bf8c86ad6927",
      "cell_type": "code",
      "source": "#MI CÓDIGO\ndef primos(n):\n    import numpy\n    prim=[]\n    for i in range(1,n):\n        div=(i%numpy.arange(2,i))==0\n        if div.any()==False:\n            prim.append(i)\n    return prim\nprimos(67)",
      "metadata": {
        "trusted": true
      },
      "outputs": [
        {
          "execution_count": 23,
          "output_type": "execute_result",
          "data": {
            "text/plain": "[1, 2, 3, 5, 7, 11, 13, 17, 19, 23, 29, 31, 37, 41, 43, 47, 53, 59, 61]"
          },
          "metadata": {}
        }
      ],
      "execution_count": 23
    },
    {
      "id": "2a25a63b-7c8b-46cf-b6c6-c3a92d105ef4",
      "cell_type": "code",
      "source": "#CÓDIGO OPTIMIZADO\ndef primos(n):\n    if n <= 1:\n        return []\n    if n == 2:\n        return [1]\n    prim = [1, 2]\n    for num in range(3, n):\n        es_primo = True\n        # Solo verificar divisibilidad hasta la raíz cuadrada del número\n        for divisor in range(2, int(num**0.5) + 1):\n            if num % divisor == 0:\n                es_primo = False\n                break\n        if es_primo:\n            prim.append(num)\n    return prim\nprimos(67)",
      "metadata": {
        "trusted": true
      },
      "outputs": [
        {
          "execution_count": 30,
          "output_type": "execute_result",
          "data": {
            "text/plain": "[1, 2, 3, 5, 7, 11, 13, 17, 19, 23, 29, 31, 37, 41, 43, 47, 53, 59, 61]"
          },
          "metadata": {}
        }
      ],
      "execution_count": 30
    }
  ]
}